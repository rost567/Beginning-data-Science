{
 "cells": [
  {
   "cell_type": "code",
   "execution_count": 1,
   "id": "339fdd6e",
   "metadata": {
    "scrolled": true
   },
   "outputs": [
    {
     "name": "stdout",
     "output_type": "stream",
     "text": [
      "19.0\n",
      "17.998999999988996\n",
      "18.000000000029104\n",
      "2.00000000916134\n",
      "18.000000000029104\n",
      "2.00000000916134\n",
      "0.1\n",
      "0.002\n",
      "2.43\n"
     ]
    }
   ],
   "source": [
    "\"\"\"\n",
    "Session 3-....: numerical methods\n",
    "Chapter 4, numerical methods\n",
    "First Session date: 30.09.2022\n",
    "Last Session date: 14.10.2022\n",
    "\n",
    "@author: florianstich\n",
    "\n",
    "\"\"\"\n",
    "\n",
    "#%% packages, modules\n",
    "\n",
    "import numpy as np\n",
    "import matplotlib.pyplot as plt\n",
    "import scipy.optimize as opt  \n",
    "\n",
    "\n",
    "#%% finite difference\n",
    "\n",
    "\n",
    "def diffForward(f,x, h=1):\n",
    "    df = (f(x + h)-f(x)) / h\n",
    "    return df\n",
    "\n",
    "\n",
    "def diffBackward(f, x, h=1e-3):\n",
    "    df = (f(x) - f(x-h)) / h\n",
    "    return df\n",
    "\n",
    "def diffCentral(f, x, h=1e-3):\n",
    "    return ( ( f(x+(h/2))  -  f(x- (h/2)) ) /   h )\n",
    "\n",
    "def ddf_call(f,x, h=.001):\n",
    "    df = diffCentral\n",
    "    return (df(f, x+h/2) - df(f, x-h/2)) / (h)\n",
    "\n",
    "\n",
    "def ddf(f,x,h=.001):\n",
    "    return (  f(x+h) + f(x-h) - 2*f(x)  ) / h**2\n",
    "\n",
    "def deriv(f,x,n=1,h=1e-3): # estiamte n-th derivative\n",
    "     \n",
    "    if n == 0:\n",
    "        return f(x)\n",
    "    else:\n",
    "        f_x_plus  = deriv(f,x+h/2, n-1, h) \n",
    "        f_x_minus = deriv(f,x-h/2, n-1, h)\n",
    "        return (f_x_plus - f_x_minus) / h\n",
    "    \n",
    "#%% # Numerical integrals\n",
    "# \n",
    "f = lambda x: x**2\n",
    "# f = lambda x: x**4\n",
    "R = [0, 1]\n",
    "##########################################\n",
    "print(diffForward(f,x=9, h=1))\n",
    "#plt.plot(diffForward(f,x=9, h=1))\n",
    "print(diffBackward(f, x=9, h=1e-3))\n",
    "print(diffCentral(f, x=9, h=1e-3))\n",
    "print(ddf_call(f,x=9, h=.001))\n",
    "print(deriv(f,x=9,n=1,h=1e-3))\n",
    "print(deriv(f,x=9,n=2,h=1e-3))\n",
    "\n",
    "print(1e-1)\n",
    "\n",
    "\n",
    "print(2e-3)\n",
    "print(243e-2)"
   ]
  },
  {
   "cell_type": "code",
   "execution_count": null,
   "id": "5c7f44b9",
   "metadata": {},
   "outputs": [],
   "source": []
  },
  {
   "cell_type": "code",
   "execution_count": 2,
   "id": "85a1ed32",
   "metadata": {},
   "outputs": [],
   "source": [
    "def int_midPoint(f, R, n = 10):\n",
    "    a, b = R\n",
    "    h = (b-a)/n #width of segments\n",
    "    xi = a + np.arange(0.5,n)*h # center points\n",
    "    fi = [f(x) for x in xi]\n",
    "    fi = np.array(fi) #function values at center points\n",
    "    #return np.sum(xi)\n",
    "    return np.sum(fi*h)\n",
    "    \n"
   ]
  },
  {
   "cell_type": "code",
   "execution_count": 3,
   "id": "df1f65d0",
   "metadata": {},
   "outputs": [
    {
     "data": {
      "text/plain": [
       "0.3325000000000001"
      ]
     },
     "execution_count": 3,
     "metadata": {},
     "output_type": "execute_result"
    }
   ],
   "source": [
    "int_midPoint(f, R, n = 10)"
   ]
  },
  {
   "cell_type": "code",
   "execution_count": null,
   "id": "a60777c9",
   "metadata": {},
   "outputs": [],
   "source": []
  },
  {
   "cell_type": "code",
   "execution_count": 4,
   "id": "fc2590a6",
   "metadata": {},
   "outputs": [],
   "source": [
    "def int_trapezoid(f, R, n=10):\n",
    "    a, b = R # lower and upper limit\n",
    "    h = (b-a)/n #width of a segment (n segment)\n",
    "    xi = a + h * np.arange(n+1) #intervals\n",
    "    wi = np.ones(n+1)*h #width #area of the rectangule\n",
    "    wi[[0,n]] = h/2 # i = 0, n (first and last element)\n",
    "    \n",
    "    fi = [ f(x) for x in xi]\n",
    "    fi = np.array(fi) #function values at center points\n",
    "    \n",
    "    # area = fi @ wi # vector (matrix) multiplication\n",
    "    area = np.sum(fi * wi)\n",
    "    return area\n",
    "\n"
   ]
  },
  {
   "cell_type": "code",
   "execution_count": 5,
   "id": "ecc60e47",
   "metadata": {},
   "outputs": [
    {
     "data": {
      "text/plain": [
       "0.3350000000000001"
      ]
     },
     "execution_count": 5,
     "metadata": {},
     "output_type": "execute_result"
    }
   ],
   "source": [
    "int_trapezoid(f, R, n = 10)"
   ]
  },
  {
   "cell_type": "code",
   "execution_count": 6,
   "id": "1bcfa54d",
   "metadata": {},
   "outputs": [
    {
     "name": "stdout",
     "output_type": "stream",
     "text": [
      "[0.  0.1 0.2 0.3 0.4 0.5 0.6 0.7 0.8 0.9 1. ]\n",
      "11\n"
     ]
    }
   ],
   "source": [
    "h2=0.1\n",
    "n2=10\n",
    "\n",
    "xi2 = 0+h2 * np.arange(n2+1)\n",
    "print(xi2)\n",
    "print(len(xi2))"
   ]
  },
  {
   "cell_type": "code",
   "execution_count": 7,
   "id": "96137f6d",
   "metadata": {},
   "outputs": [
    {
     "name": "stdout",
     "output_type": "stream",
     "text": [
      "[0.1 0.1 0.1 0.1 0.1 0.1 0.1 0.1 0.1 0.1 0.1]\n",
      "11\n"
     ]
    }
   ],
   "source": [
    "n=10\n",
    "#h=2\n",
    "h=0.1\n",
    "wi = np.ones(n+1)*h\n",
    "print(wi)\n",
    "print(len(wi))\n"
   ]
  },
  {
   "cell_type": "code",
   "execution_count": 8,
   "id": "612cc766",
   "metadata": {},
   "outputs": [
    {
     "name": "stdout",
     "output_type": "stream",
     "text": [
      "[0.05 0.05]\n",
      "[0.05]\n"
     ]
    }
   ],
   "source": [
    "wi[[0,n]] = h/2\n",
    "print(wi[[0,n]])\n",
    "print(wi[[0]])"
   ]
  },
  {
   "cell_type": "code",
   "execution_count": 9,
   "id": "a7472e71",
   "metadata": {},
   "outputs": [
    {
     "data": {
      "text/plain": [
       "[4, 4, 4, 4, 4, 4, 4, 4, 4, 4, 4]"
      ]
     },
     "execution_count": 9,
     "metadata": {},
     "output_type": "execute_result"
    }
   ],
   "source": [
    "#xi = a + h * np.arange(n+1)\n",
    "f2 = lambda x: x**2#\n",
    "xi2 = 0+h2 * np.arange(n2+1)\n",
    "x2=2\n",
    "h3=1\n",
    "fi2 = [f2(x2) for x3 in xi2]\n",
    "fi2"
   ]
  },
  {
   "cell_type": "code",
   "execution_count": 10,
   "id": "f9679913",
   "metadata": {},
   "outputs": [],
   "source": [
    "def int_sigmoid(f, R, n=10):\n",
    "    a, b = R # lower and upper limit\n",
    "    h = (b-a)/n #width of a segment (n segment)\n",
    "    xi = a + h * np.arange(n+1)\n",
    "    fi = [ f(x) for x in xi]\n",
    "    fi = np.array(fi) #function values at center points\n",
    "    \n",
    "    wi = np.ones(n+1)* (4*h/3) #width\n",
    "    wi[ 1::2] = 4 * h /3 # index = odd\n",
    "    wi[ 2::2] = 2 * h / 3 #index = even\n",
    "    wi[ [0,n] ] = h/3 # i = 0, n (first and last element)\n",
    "    \n",
    "    # area = fi @ wi # vector (matrix) multiplication\n",
    "    area = np.sum(fi * wi)\n",
    "    return area\n",
    "    \n",
    "    \n",
    "# np.full((2,3), 1)\n",
    "# here we work on a fancy indexing\n",
    "\n",
    "#%% Taylor Series\n",
    "\n",
    "\n",
    "\n"
   ]
  },
  {
   "cell_type": "code",
   "execution_count": 11,
   "id": "23d66e3e",
   "metadata": {},
   "outputs": [
    {
     "name": "stdout",
     "output_type": "stream",
     "text": [
      "0.1 0.15393040055933227\n",
      "1e-05 3330669073.8754687\n",
      "1e-10 4.4408920985006265e+34\n",
      "1e-15 0.0\n",
      "1e-30 0.0\n",
      "0 0.0 0.9995833854135666 0.0\n",
      "1 0.8414709848078965 0.5400772080464322 -0.8414709147253063\n",
      "2 0.9092974268256817 -0.4159734637049384 -0.9092973511926061\n",
      "3 0.1411200080598672 -0.9895800512858984 -0.14111999629973226\n",
      "4 -0.7568024953079282 -0.6533713033968291 0.7568024318338473\n",
      "5 -0.9589242746631385 0.2835440076591422 0.9589241947161042\n"
     ]
    },
    {
     "data": {
      "image/png": "[encoded data removed]",
      "text/plain": [
       "<Figure size 432x288 with 1 Axes>"
      ]
     },
     "metadata": {
      "needs_background": "light"
     },
     "output_type": "display_data"
    }
   ],
   "source": [
    "\n",
    "def factorial(n):\n",
    "    if n <= 1:\n",
    "        return 1\n",
    "    else:\n",
    "        return n*factorial(n-1)\n",
    "\n",
    "def TaylorPlot(f, R, x0=None, order=1, Rs=[-1,1]):    \n",
    "    \"\"\"\n",
    "    f : function\n",
    "    R : range for function plot\n",
    "    Rs: range for approximation around x0        \n",
    "    \"\"\"\n",
    "    #basic function\n",
    "    xP = np.linspace(R[0], R[1], 101)\n",
    "    yP = f(xP)\n",
    "    plt.plot(xP,yP, 'b')\n",
    "    \n",
    "    #expansion point\n",
    "    if x0==None:\n",
    "        return\n",
    "    plt.plot(x0, f(x0), 'ro')\n",
    "    \n",
    "    #approximation\n",
    "    if order < 1:\n",
    "        return \n",
    "    s = np.linspace(*Rs, 101) # (  Rs[0], Rs[1], 101)\n",
    "    yT = f(x0)*np.ones(len(s))\n",
    "    for n in range (1, order+1):\n",
    "        term = deriv(f, x0, n, h=.1) * s**n / factorial(n)\n",
    "        yT = yT + term\n",
    "    \n",
    "    xT = x0 + s\n",
    "    plt.plot(xT, yT, 'r')\n",
    "        \n",
    "        \n",
    "\n",
    "\n",
    "#%% examples\n",
    "\n",
    "#TaylorPlot(f, [-5,10], x0, order=2)\n",
    "#TaylorPlot(f,[-5,10], x0=7, order=1)\n",
    "#None means empty space\n",
    "f = lambda x: np.sin(x) # define function f(x)\n",
    "#f = lambda x: 5*x ** 2 - 7*x# define function f(x)\n",
    "\n",
    "\n",
    "\n",
    "\n",
    "for h in [.1, 1e-5,1e-10, 1e-15, 1e-30]: # too small values -> it gets inaccurate\n",
    "    x=30\n",
    "    print(h, deriv(f,x,n=5,h=h))\n",
    "\n",
    "\n",
    "\n",
    "\n",
    "\n",
    "# x0 = 2\n",
    "\n",
    "#fx = f(x0)\n",
    "#dfx = (f(x0+1)-f(x0))/1\n",
    "#print(x0, fx, dfx)\n",
    "\n",
    "#fx = f(x0)\n",
    "#dfx = diffForward(f, x0, h=0.001)\n",
    "#dfx = diffBackward(f, x0, h=0.001)\n",
    "#dfx = diffCentral(f, x0, h=1e-3)\n",
    "#print(x0, fx, dfx)\n",
    "\n",
    "\n",
    "for x0 in range(6):\n",
    "    fx = f(x0)\n",
    "    dfx = diffCentral(f, x0, h=.1)\n",
    "    ddfx = ddf(f, x0)\n",
    "    print(x0, fx, dfx, ddfx)\n",
    "\n",
    "x0=2\n",
    "TaylorPlot(f, [-5,5], x0, Rs=[-2,2], order=3)\n",
    "\n",
    "\n",
    "\n",
    "\n",
    "\n",
    "\n"
   ]
  },
  {
   "cell_type": "code",
   "execution_count": 12,
   "id": "95a4f8bc",
   "metadata": {},
   "outputs": [],
   "source": [
    "#%% roots\n",
    "\n",
    "def bisection_root(f, R, tol=1e-6, maxIter=100):\n",
    "    a, b = R # list unpacking: a=R[0], b = R[1]\n",
    "    f_a = f(a) # only compute function value once\n",
    "    for it in range(maxIter):\n",
    "        c = (a+b)/2     #center of interval\n",
    "        f_c = f(c)\n",
    "        if abs(f_c) < tol: # close enough? if yes, break the loop\n",
    "            break\n",
    "    \n",
    "        prod = f_a * f_c\n",
    "        if prod > 0: # f_a and f_c have same sing\n",
    "            a = c    # replace lower bound (a)\n",
    "            f_a = f_c\n",
    "        else:\n",
    "            b = c    # replace upper bound (b)\n",
    "    return (a+b) / 2\n"
   ]
  },
  {
   "cell_type": "code",
   "execution_count": 13,
   "id": "7644cdf8",
   "metadata": {},
   "outputs": [],
   "source": [
    "\n",
    "def regula_falsi(f, R, tol=1e-6, maxIter=100):\n",
    "    xR = R.copy() #create local copy (avoid view!!!)\n",
    "    \n",
    "    fR = [ f(x) for x in xR ]\n",
    "    \n",
    "    for it in range(maxIter):\n",
    "        slope = (fR[1] - fR[0]) / ( xR[1] - xR[0] )\n",
    "        \n",
    "        c = xR[0] - fR[0] / slope # new candidate: root if f were linear\n",
    "        fc = f(c) # function  value at c\n",
    "        \n",
    "        if abs(fc) < tol: # zero or close enough\n",
    "            return c\n",
    "        if fc*fR[0] > 0: # fc and f_low have same sign -> update lower limit\n",
    "            xR[0] = c\n",
    "            fR[0] = fc\n",
    "        else: # update upper limit of interval\n",
    "            xR[1] = c\n",
    "            fR[1] = fc\n",
    "            \n",
    "    return (   xR[0] + xR[1] )  /  2"
   ]
  },
  {
   "cell_type": "code",
   "execution_count": 37,
   "id": "5e66e22b",
   "metadata": {},
   "outputs": [
    {
     "name": "stdout",
     "output_type": "stream",
     "text": [
      "-1.3999999929997557\n",
      "-0.9324955036357216\n",
      "-0.5774307901781562\n",
      "-0.26513870392583017\n",
      "-0.052270234193409135\n"
     ]
    },
    {
     "data": {
      "text/plain": [
       "0.7726647750671274"
      ]
     },
     "execution_count": 37,
     "metadata": {},
     "output_type": "execute_result"
    }
   ],
   "source": [
    "def newton_root(f, x0, tol=1e-6, maxIter=100):\n",
    "    \n",
    "    for k in range(maxIter):\n",
    "        fx = f(x0)\n",
    "        if abs(fx)<tol:\n",
    "            return x0\n",
    "        s = -f(x0) / deriv(f,x0) # step size\n",
    "        x0 = x0 + s\n",
    "        #print(s)\n",
    "    return x0  \n",
    "    \n",
    "\n",
    "\n",
    "f = lambda x: x**3 + 2*x-2 \n",
    "\n",
    "newton_root(f, x0, tol=1e-6, maxIter=5)\n"
   ]
  },
  {
   "cell_type": "code",
   "execution_count": 15,
   "id": "9eb1f7d1",
   "metadata": {},
   "outputs": [
    {
     "name": "stdout",
     "output_type": "stream",
     "text": [
      "[2.5, 10.0]\n",
      "[2.5, 6.25]\n",
      "[4.375, 6.25]\n",
      "[4.375, 5.3125]\n",
      "[4.375, 4.84375]\n",
      "[4.609375, 4.84375]\n",
      "[4.609375, 4.7265625]\n",
      "[4.66796875, 4.7265625]\n",
      "[4.697265625, 4.7265625]\n",
      "[4.7119140625, 4.7265625]\n",
      "[4.7119140625, 4.71923828125]\n",
      "[4.7119140625, 4.715576171875]\n",
      "[4.7119140625, 4.7137451171875]\n",
      "[4.7119140625, 4.71282958984375]\n",
      "[4.712371826171875, 4.71282958984375]\n",
      "[4.712371826171875, 4.7126007080078125]\n",
      "[4.712371826171875, 4.712486267089844]\n",
      "[4.712371826171875, 4.712429046630859]\n",
      "[4.712371826171875, 4.712400436401367]\n",
      "[4.712386131286621, 4.712400436401367]\n",
      "[4.712386131286621, 4.712393283843994]\n",
      "[4.712386131286621, 4.712389707565308]\n",
      "[4.712387919425964, 4.712389707565308]\n",
      "[4.712388813495636, 4.712389707565308]\n",
      "[4.712388813495636, 4.712389260530472]\n",
      "[5, 7.5]\n",
      "[5, 6.25]\n",
      "[5, 5.625]\n",
      "[5, 5.3125]\n",
      "[5, 5.15625]\n",
      "[5, 5.078125]\n",
      "[5, 5.0390625]\n",
      "[5, 5.01953125]\n",
      "[5, 5.009765625]\n",
      "[5, 5.0048828125]\n",
      "[5, 5.00244140625]\n",
      "[5, 5.001220703125]\n",
      "[5, 5.0006103515625]\n",
      "[5, 5.00030517578125]\n",
      "[5, 5.000152587890625]\n",
      "[5, 5.0000762939453125]\n",
      "[5, 5.000038146972656]\n",
      "[5, 5.000019073486328]\n",
      "[5, 5.000009536743164]\n",
      "[5, 5.000004768371582]\n",
      "[5, 5.000002384185791]\n",
      "[5, 5.0000011920928955]\n",
      "[5, 5.000000596046448]\n",
      "[5, 5.000000298023224]\n",
      "[5, 5.000000149011612]\n",
      "[5, 5.000000074505806]\n",
      "[5, 5.000000037252903]\n",
      "[5, 5.0000000186264515]\n",
      "[5, 5.000000009313226]\n",
      "[5, 5.000000004656613]\n",
      "[5, 5.000000002328306]\n",
      "[5, 5.000000001164153]\n",
      "[5, 5.000000000582077]\n",
      "[5, 5.000000000291038]\n",
      "[5, 5.000000000145519]\n",
      "[5, 5.00000000007276]\n",
      "[5, 5.00000000003638]\n",
      "[5, 5.00000000001819]\n",
      "[5, 5.000000000009095]\n",
      "[5, 5.0000000000045475]\n",
      "[5, 5.000000000002274]\n",
      "[5, 5.000000000001137]\n",
      "[5, 5.000000000000568]\n",
      "[5, 5.000000000000284]\n",
      "[5, 5.000000000000142]\n",
      "[5, 5.000000000000071]\n",
      "[5, 5.0000000000000355]\n",
      "[5, 5.000000000000018]\n",
      "[5, 5.000000000000009]\n",
      "[5, 5.000000000000004]\n",
      "[5, 5.000000000000002]\n",
      "[5, 5.000000000000001]\n",
      "[5, 5.0]\n",
      "[5, 5.0]\n",
      "[5, 5.0]\n",
      "[5, 5.0]\n",
      "[5, 5.0]\n",
      "[5, 5.0]\n",
      "[5, 5.0]\n",
      "[5, 5.0]\n",
      "[5, 5.0]\n",
      "[5, 5.0]\n",
      "[5, 5.0]\n",
      "[5, 5.0]\n",
      "[5, 5.0]\n",
      "[5, 5.0]\n",
      "[5, 5.0]\n",
      "[5, 5.0]\n",
      "[5, 5.0]\n",
      "[5, 5.0]\n",
      "[5, 5.0]\n",
      "[5, 5.0]\n",
      "[5, 5.0]\n",
      "[5, 5.0]\n",
      "[5, 5.0]\n",
      "[5, 5.0]\n",
      "[5, 5.0]\n",
      "[5, 5.0]\n",
      "[5, 5.0]\n",
      "[5, 5.0]\n",
      "[5, 5.0]\n",
      "[5, 5.0]\n",
      "[5, 5.0]\n",
      "[5, 5.0]\n",
      "[5, 5.0]\n",
      "[5, 5.0]\n",
      "[5, 5.0]\n",
      "[5, 5.0]\n",
      "[5, 5.0]\n",
      "[5, 5.0]\n",
      "[5, 5.0]\n",
      "[5, 5.0]\n",
      "[5, 5.0]\n",
      "[5, 5.0]\n",
      "[5, 5.0]\n",
      "[5, 5.0]\n",
      "[5, 5.0]\n",
      "[5, 5.0]\n",
      "[5, 5.0]\n",
      "[5, 5.0]\n"
     ]
    },
    {
     "data": {
      "image/png": "[encoded data removed]",
      "text/plain": [
       "<Figure size 432x288 with 1 Axes>"
      ]
     },
     "metadata": {
      "needs_background": "light"
     },
     "output_type": "display_data"
    }
   ],
   "source": [
    "def bisection_min(f, Rx, maxIter = 100, tol=1e-7):   \n",
    "    a, b = Rx\n",
    "    for it in range(maxIter):\n",
    "        c = (a+b)/2\n",
    "        df_c = deriv(f, c)\n",
    "        if abs(df_c) < tol: #    -tol < df_c < df_c\n",
    "            break\n",
    "        if df_c < 0: #change for maximization\n",
    "            a = c\n",
    "        else:\n",
    "            b = c\n",
    "        print([a,b])    \n",
    "    return (a+b)/2\n",
    "    return c\n",
    "\n",
    "Rx = [ -5. , 10.  ]\n",
    "\n",
    "bisection_min(f, Rx)\n",
    "\n",
    "bisection_min(f, [5,10]) # returns a border solution and not the global minimum\n",
    "# -> therefore must always chose big enough interval\n",
    "a, b = Rx\n",
    "c = (a+b)/2\n",
    "\n",
    "TaylorPlot(f, Rx, c)"
   ]
  },
  {
   "cell_type": "code",
   "execution_count": 28,
   "id": "e2b0d293",
   "metadata": {},
   "outputs": [],
   "source": [
    "# basic implementation (without tolerance check)\n",
    "# basic implementation (with tolerance check)\n",
    "def newton_min(f, x0, maxIter = 100, tol=1e-7):\n",
    "    for it in range(maxIter):\n",
    "        df_x0 = deriv(f,x0,n=1)\n",
    "        try:\n",
    "            if abs(df_x0)<tol:\n",
    "                break\n",
    "            ddf_x0 = deriv(f,x0,n=2)\n",
    "            s=-df_x0/ddf_x0\n",
    "            x0=x0+s\n",
    "        except:\n",
    "            x0=None\n",
    "            break\n",
    "    print(it)\n",
    "    return(x0)"
   ]
  },
  {
   "cell_type": "code",
   "execution_count": 29,
   "id": "54d5144a",
   "metadata": {},
   "outputs": [
    {
     "name": "stdout",
     "output_type": "stream",
     "text": [
      "99\n",
      "nan\n",
      "<function <lambda> at 0x0000020A8FAD31F0>\n"
     ]
    },
    {
     "name": "stderr",
     "output_type": "stream",
     "text": [
      "C:\\Users\\ros22\\AppData\\Local\\Temp\\ipykernel_26644\\616716461.py:10: RuntimeWarning: divide by zero encountered in double_scalars\n",
      "  s=-df_x0/ddf_x0\n",
      "C:\\Users\\ros22\\AppData\\Local\\Temp\\ipykernel_26644\\3625754200.py:2: RuntimeWarning: invalid value encountered in sin\n",
      "  f1 = lambda x,b=0:np.abs(x-3)+b*np.sin(np.pi *x)\n"
     ]
    },
    {
     "data": {
      "text/plain": [
       "Text(0.5, 1.0, 'nan')"
      ]
     },
     "execution_count": 29,
     "metadata": {},
     "output_type": "execute_result"
    },
    {
     "data": {
      "image/png": "[encoded data removed]",
      "text/plain": [
       "<Figure size 432x288 with 1 Axes>"
      ]
     },
     "metadata": {
      "needs_background": "light"
     },
     "output_type": "display_data"
    }
   ],
   "source": [
    "#f1 = lambda x: 3 * x + 2\n",
    "f1 = lambda x,b=0:np.abs(x-3)+b*np.sin(np.pi *x)\n",
    "#x0=10\n",
    "x0=4.0\n",
    "xOpt = newton_min(f1, x0)\n",
    "print(xOpt)\n",
    "TaylorPlot(f1,[-5,10], x0, order=0)\n",
    "#print(xOpt)\n",
    "print(f1)\n",
    "plt.plot(xOpt, f(xOpt), 'ok') # add black circle at opt\n",
    "plt.title(xOpt) # display xopt as title"
   ]
  },
  {
   "cell_type": "code",
   "execution_count": 30,
   "id": "1a63b432",
   "metadata": {},
   "outputs": [
    {
     "name": "stdout",
     "output_type": "stream",
     "text": [
      "101.37390143701973\n",
      "0.034\n"
     ]
    },
    {
     "data": {
      "image/png": "[encoded data removed]",
      "text/plain": [
       "<Figure size 432x288 with 1 Axes>"
      ]
     },
     "metadata": {
      "needs_background": "light"
     },
     "output_type": "display_data"
    }
   ],
   "source": [
    "#%% Simulations\n",
    "# Problem 4.11 (N(0, sigma**2))\n",
    "\n",
    "import numpy as np\n",
    "import numpy.random as rd\n",
    "import matplotlib.pyplot as plt\n",
    "\n",
    "mu = 0.05 / 250 # mean daily return\n",
    "\n",
    "sigma = 0.30 / np.sqrt(250) # standard deviation of daily return \n",
    "\n",
    "T = 50 # how many periods?\n",
    "nPath = 1000 # how many simulations?\n",
    "\n",
    "#rd.rand(4,6)\n",
    "# u = rd.rand(10000)\n",
    "# plt.hist((u < .9)*1)\n",
    "# z = rd.randn(100000)\n",
    "# plt.hist(z)\n",
    "# z.mean()\n",
    "# z.std()\n",
    "\n",
    "# z ~ N(0,1)\n",
    "# x ~ N(mu, sigma**2)\n",
    "#(x - mu)/sigma = z\n",
    "#x = z * sigma + mu (from the above equation)\n",
    "#x = z * 100\n",
    "#plt.hist(x,30)\n",
    "#I missed several strings of the code\n",
    "#r = rd.randn(10000)*sig + mu\n",
    "#mu, sig\n",
    "#r.mean()\n",
    "#r.std()\n",
    "\n",
    "S_0 = 100.00 #make sure it's a float (so we avoid numerical problems)\n",
    " # simulation price path(s)\n",
    "r = rd.randn(T, nPath)*sigma + mu\n",
    "S = np.full((T+1,nPath), S_0)\n",
    "\n",
    "for t in range(T):\n",
    "    S[t+1] = S[t] * np.exp(r[t])\n",
    "#plt.plot(S)\n",
    "# analyze prices at t=T (end of time)\n",
    "S_T = S[-1,:]  #extract final row (last point in time)\n",
    "plt.hist(S_T, 50)\n",
    "E_S_T = np.mean(S_T) # expected price at T\n",
    "print(E_S_T)\n",
    "#my plots are different :C\n",
    "\n",
    "prob_below = np.mean(S_T<80) #prob that S_T < ...\n",
    "print(prob_below)\n",
    "\n",
    "#do exercise 7 from simulation slide\n",
    "#computational economics in february\n",
    "# machine learning and AI are with the same professor\n",
    "#asking about the method I would use and how would I describe it in pseudo code or words\n",
    "\n",
    "\n",
    "\n",
    "\n",
    "\n",
    "\n"
   ]
  },
  {
   "cell_type": "code",
   "execution_count": null,
   "id": "f8fc6734",
   "metadata": {},
   "outputs": [],
   "source": []
  }
 ],
 "metadata": {
  "hide_input": false,
  "kernelspec": {
   "display_name": "Python 3 (ipykernel)",
   "language": "python",
   "name": "python3"
  },
  "language_info": {
   "codemirror_mode": {
    "name": "ipython",
    "version": 3
   },
   "file_extension": ".py",
   "mimetype": "text/x-python",
   "name": "python",
   "nbconvert_exporter": "python",
   "pygments_lexer": "ipython3",
   "version": "3.10.9"
  },
  "toc": {
   "base_numbering": 1,
   "nav_menu": {},
   "number_sections": true,
   "sideBar": true,
   "skip_h1_title": false,
   "title_cell": "Table of Contents",
   "title_sidebar": "Contents",
   "toc_cell": false,
   "toc_position": {},
   "toc_section_display": true,
   "toc_window_display": false
  },
  "varInspector": {
   "cols": {
    "lenName": 16,
    "lenType": 16,
    "lenVar": 40
   },
   "kernels_config": {
    "python": {
     "delete_cmd_postfix": "",
     "delete_cmd_prefix": "del ",
     "library": "var_list.py",
     "varRefreshCmd": "print(var_dic_list())"
    },
    "r": {
     "delete_cmd_postfix": ") ",
     "delete_cmd_prefix": "rm(",
     "library": "var_list.r",
     "varRefreshCmd": "cat(var_dic_list()) "
    }
   },
   "types_to_exclude": [
    "module",
    "function",
    "builtin_function_or_method",
    "instance",
    "_Feature"
   ],
   "window_display": false
  }
 },
 "nbformat": 4,
 "nbformat_minor": 5
}
