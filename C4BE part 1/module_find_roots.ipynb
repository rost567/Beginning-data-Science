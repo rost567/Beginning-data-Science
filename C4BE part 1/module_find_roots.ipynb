{
 "cells": [
  {
   "cell_type": "code",
   "execution_count": 1,
   "id": "9183d878",
   "metadata": {},
   "outputs": [],
   "source": [
    "import numpy as np\n",
    "import matplotlib.pyplot as plt\n",
    "import scipy.optimize as opt"
   ]
  },
  {
   "cell_type": "code",
   "execution_count": 6,
   "id": "1c4a54c5",
   "metadata": {},
   "outputs": [],
   "source": [
    "def biseciton_root(f,R,tol=1e-6, maxIter=100):\n",
    "    a, b = R\n",
    "    f_a = f(a)\n",
    "    for it in range(maxIter):\n",
    "        c=(a+b)/2 #center of the interval\n",
    "        f_c = f(c)\n",
    "        if abs(f_c) < tol: #if it is close enough, so, break\n",
    "            break\n",
    "        \n",
    "        prod = f_a * f_c\n",
    "        if prod > 0:\n",
    "            a = c\n",
    "            f_a = f_c\n",
    "        else:\n",
    "            b=c\n",
    "    return (a+b)/2"
   ]
  },
  {
   "cell_type": "code",
   "execution_count": 7,
   "id": "04cc09d2",
   "metadata": {},
   "outputs": [],
   "source": [
    "def regula_falsi(f,R, tol=1e-6, maxIter=100):\n",
    "    xR = R.copy() #create a local copy avoiding view\n",
    "    fR = [f(x) for x in xR]\n",
    "    for it in range(maxIter):\n",
    "        slope = (fR[1] - fR[0])/(xR[1] - xR[0])\n",
    "        c=xR[0] - fR[0] / slope #new candidate (root id f were linear)\n",
    "        fc = f(c)\n",
    "        \n",
    "        if abs(fc) < tol: #zero or close enough\n",
    "            return c\n",
    "        if fc*fR[0] > 0: # update lower limit\n",
    "            xR[0] = c\n",
    "            fR[0] = fc\n",
    "        else: #update upper limit of interval\n",
    "            xR[1] = c\n",
    "            fR[1] = fc\n",
    "    return (xR[0] + xR[1]) / 2"
   ]
  },
  {
   "cell_type": "code",
   "execution_count": 8,
   "id": "1b73d799",
   "metadata": {},
   "outputs": [],
   "source": [
    "def deriv(f,x,n=1, h=1e-3):\n",
    "    if n==0:\n",
    "        return f(x)\n",
    "    else:\n",
    "        f_x_plus = deriv(f, x+h/2, n-1, h)\n",
    "        f_x_minus = deriv(f, x-h/2, n-1, h)\n",
    "        return (f_x_plus - f_x_minus) / h"
   ]
  },
  {
   "cell_type": "code",
   "execution_count": 4,
   "id": "c3ccb486",
   "metadata": {},
   "outputs": [],
   "source": [
    "def newton_root(f, x0, tol=1e-6, maxIter=100):\n",
    "    for k in range(maxIter):\n",
    "        fx = f(x0)\n",
    "        if abs(fx)<tol:\n",
    "            return x0\n",
    "        s=-f(x0) / deriv(f,x0) #step\n",
    "        x0 = x0 + s\n",
    "    return x0"
   ]
  },
  {
   "cell_type": "code",
   "execution_count": 5,
   "id": "0e27f660",
   "metadata": {},
   "outputs": [],
   "source": []
  },
  {
   "cell_type": "code",
   "execution_count": null,
   "id": "0649e05a",
   "metadata": {},
   "outputs": [],
   "source": []
  }
 ],
 "metadata": {
  "hide_input": false,
  "kernelspec": {
   "display_name": "Python 3 (ipykernel)",
   "language": "python",
   "name": "python3"
  },
  "language_info": {
   "codemirror_mode": {
    "name": "ipython",
    "version": 3
   },
   "file_extension": ".py",
   "mimetype": "text/x-python",
   "name": "python",
   "nbconvert_exporter": "python",
   "pygments_lexer": "ipython3",
   "version": "3.10.9"
  },
  "toc": {
   "base_numbering": 1,
   "nav_menu": {},
   "number_sections": true,
   "sideBar": true,
   "skip_h1_title": false,
   "title_cell": "Table of Contents",
   "title_sidebar": "Contents",
   "toc_cell": false,
   "toc_position": {},
   "toc_section_display": true,
   "toc_window_display": false
  },
  "varInspector": {
   "cols": {
    "lenName": 16,
    "lenType": 16,
    "lenVar": 40
   },
   "kernels_config": {
    "python": {
     "delete_cmd_postfix": "",
     "delete_cmd_prefix": "del ",
     "library": "var_list.py",
     "varRefreshCmd": "print(var_dic_list())"
    },
    "r": {
     "delete_cmd_postfix": ") ",
     "delete_cmd_prefix": "rm(",
     "library": "var_list.r",
     "varRefreshCmd": "cat(var_dic_list()) "
    }
   },
   "types_to_exclude": [
    "module",
    "function",
    "builtin_function_or_method",
    "instance",
    "_Feature"
   ],
   "window_display": false
  }
 },
 "nbformat": 4,
 "nbformat_minor": 5
}
